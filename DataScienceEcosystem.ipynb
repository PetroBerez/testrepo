{
 "cells": [
  {
   "cell_type": "markdown",
   "id": "f4eedd93-dd08-4720-a0f8-b35e8ff26c5d",
   "metadata": {},
   "source": [
    "# Data Science Tools and Ecosystem"
   ]
  },
  {
   "cell_type": "markdown",
   "id": "dbf00dd9-04bd-40be-ba76-cbb97597a498",
   "metadata": {},
   "source": [
    "In this notebook, Data Science Tools and Ecosystem are summarized."
   ]
  },
  {
   "cell_type": "markdown",
   "id": "4aec0426-834f-4491-88df-c95f410c64e0",
   "metadata": {},
   "source": [
    "**Objectives:**\n",
    "* List popular languages for Data Science\n",
    "* Data sets and sources of data\n",
    "* List the various libraries: scientific, visualization, machine learning, and deep learning.\n",
    "* How to use the notebooks in JupyterLab\n",
    "* Create a Jupyter Notebook with markdown and code cells"
   ]
  },
  {
   "cell_type": "markdown",
   "id": "f9aa741d-c1a3-4fcf-8296-b1ab74755afe",
   "metadata": {},
   "source": [
    "Some of the popular languages that Data Scientists use are:"
   ]
  },
  {
   "cell_type": "markdown",
   "id": "1c017f3f-5ec0-4e86-b412-ee814d962029",
   "metadata": {},
   "source": [
    "1. Python\n",
    "2. R\n",
    "3. C++\n",
    "4. Julia"
   ]
  },
  {
   "cell_type": "markdown",
   "id": "f7f9d14c-e93c-44dc-8f25-b1040a2157f4",
   "metadata": {},
   "source": [
    "Some of the commonly used libraries used by Data Scientists include:"
   ]
  },
  {
   "cell_type": "markdown",
   "id": "0c942950-0b1e-4f49-b046-ef3ab02abf29",
   "metadata": {},
   "source": [
    "1. NumPy\n",
    "2. TensorFlow\n",
    "3. Scikit-learn\n",
    "4. Pandas\n",
    "5. PyTorch"
   ]
  },
  {
   "cell_type": "markdown",
   "id": "9a0e16c7-8fce-44ac-a31a-9b1130d2f88a",
   "metadata": {},
   "source": [
    "| Data Science Tools |\n",
    "| -------------------|\n",
    "| Jupyter Notebook |\n",
    "| KNIME |\n",
    "| WEKA |\n",
    "| Apache Hadoop |"
   ]
  },
  {
   "cell_type": "markdown",
   "id": "9d958e55-773f-4480-ab49-6591ddab8fc8",
   "metadata": {},
   "source": [
    "### Below are a few examples of evaluating arithmetic expressions in Python"
   ]
  },
  {
   "cell_type": "markdown",
   "id": "8edb64b6-ed1f-4502-8c23-1075ed6c6962",
   "metadata": {},
   "source": [
    "This a simple arithmetic expression to mutiply then add integers"
   ]
  },
  {
   "cell_type": "code",
   "execution_count": 1,
   "id": "fc7bf4b6-b42d-46f9-bc4c-57d2c37af802",
   "metadata": {
    "tags": []
   },
   "outputs": [
    {
     "data": {
      "text/plain": [
       "17"
      ]
     },
     "execution_count": 1,
     "metadata": {},
     "output_type": "execute_result"
    }
   ],
   "source": [
    "(3*4)+5"
   ]
  },
  {
   "cell_type": "markdown",
   "id": "4f16d76a-9a9c-4a9c-97cb-3f2ab8a362b3",
   "metadata": {},
   "source": [
    "This will convert 200 minutes to hours by diving by 60"
   ]
  },
  {
   "cell_type": "code",
   "execution_count": 7,
   "id": "7ece8e91-be31-4aff-ba83-48ed755a0416",
   "metadata": {
    "tags": []
   },
   "outputs": [
    {
     "name": "stdout",
     "output_type": "stream",
     "text": [
      "minutes value in hours: 3.3333333333333335\n"
     ]
    }
   ],
   "source": [
    "hour = 200/60\n",
    "print(\"minutes value in hours:\",hour)"
   ]
  },
  {
   "cell_type": "code",
   "execution_count": null,
   "id": "5677d473-816b-4741-9e8a-dcec688adcab",
   "metadata": {},
   "outputs": [],
   "source": []
  },
  {
   "cell_type": "markdown",
   "id": "712c892b-2c3a-423a-ab90-38b57386df2e",
   "metadata": {},
   "source": [
    "## Author\n",
    "Petro Berezhniy"
   ]
  },
  {
   "cell_type": "code",
   "execution_count": null,
   "id": "f269d894-86a0-4635-8e0d-a7b45cffd5de",
   "metadata": {},
   "outputs": [],
   "source": []
  }
 ],
 "metadata": {
  "kernelspec": {
   "display_name": "Python",
   "language": "python",
   "name": "conda-env-python-py"
  },
  "language_info": {
   "codemirror_mode": {
    "name": "ipython",
    "version": 3
   },
   "file_extension": ".py",
   "mimetype": "text/x-python",
   "name": "python",
   "nbconvert_exporter": "python",
   "pygments_lexer": "ipython3",
   "version": "3.7.12"
  }
 },
 "nbformat": 4,
 "nbformat_minor": 5
}
